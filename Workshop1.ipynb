{
 "cells": [
  {
   "cell_type": "markdown",
   "metadata": {},
   "source": [
    "# Workshop 1\n",
    "--------------------------\n",
    "This is codes used for Sydney's Python Workshop 1, on June 8th 2020. If you have any questions, feel free to email me (bs3222@columbia.edu)"
   ]
  },
  {
   "cell_type": "markdown",
   "source": [
    "#### 1. How to use markdown\n",
    "\n",
    "In Python notebook, you can change the code chunk as \"markdown\". At jupyter notebook, on the far right, you will see a dropdown menu. Default is \"code\". You can change that to \"markdown\" and write markdown text.\n",
    "\n",
    "Markdown is a plain-text-formatting syntax, used often for readme files.\n",
    "You can understand it as text formatting.\n",
    "\n",
    "If you add a hashtag (#) it becomes a header. If you add more hashtags, you will have smaller sized header.\n",
    "\n",
    "# Header\n",
    "## Header 2\n",
    "### Header 3\n",
    "\n",
    "If you have two underscores (\\__)between text, it makes the text bold.\n",
    "You can do the same with asterisk(\\*) sign. If you have two asterisk signs between text, it makes the text bold.\n",
    "\n",
    "__Make it bold with two underscores__ \n",
    "\n",
    "**Make it bold with two asterisk signs**\n",
    "\n",
    "If you have one underscore or one asterisk sign, it makes the text italic.\n",
    "\n",
    "_Make it italic with one underscore_ \n",
    "\n",
    "*Make it italic with one asterisk sign*\n",
    "\n",
    "You can mix the two as well, like below.\n",
    "\n",
    "__*text*__"
   ],
   "metadata": {
    "collapsed": false,
    "pycharm": {
     "name": "#%% md\n"
    }
   }
  },
  {
   "cell_type": "code",
   "execution_count": 1,
   "metadata": {},
   "outputs": [],
   "source": [
    "# Import libraries\n",
    "import pandas as pd\n",
    "import numpy as np\n",
    "import os"
   ]
  },
  {
   "cell_type": "code",
   "execution_count": 2,
   "metadata": {},
   "outputs": [
    {
     "data": {
      "text/plain": [
       "'C:\\\\Users\\\\bolim\\\\Google Drive\\\\DA_with_python\\\\python_workshop'"
      ]
     },
     "execution_count": 2,
     "metadata": {},
     "output_type": "execute_result"
    }
   ],
   "source": [
    "# os.getcwd() means \"i) from os package ii) use the function getcwd iii) execute ()\"\n",
    "#  This function gets \"current working directory\"\n",
    "os.getcwd() "
   ]
  },
  {
   "cell_type": "code",
   "execution_count": 3,
   "metadata": {},
   "outputs": [],
   "source": [
    "# A hashtag in a code chunk means that it is a \"text\", not \"code\".\n",
    "# if you want to change your directory, use os.chdir() with the path specified inside the parenthesis\n",
    "# os.chdir('directory_path/path/path') \n",
    "# This will not run because the code line is commented. (understood as text by python)"
   ]
  },
  {
   "cell_type": "code",
   "execution_count": 4,
   "metadata": {},
   "outputs": [],
   "source": [
    "# Read in the csv file \"surveys.csv\", call that as d\n",
    "d = pd.read_csv('surveys.csv')"
   ]
  },
  {
   "cell_type": "code",
   "execution_count": 6,
   "metadata": {},
   "outputs": [
    {
     "data": {
      "text/html": [
       "<div>\n",
       "<style scoped>\n",
       "    .dataframe tbody tr th:only-of-type {\n",
       "        vertical-align: middle;\n",
       "    }\n",
       "\n",
       "    .dataframe tbody tr th {\n",
       "        vertical-align: top;\n",
       "    }\n",
       "\n",
       "    .dataframe thead th {\n",
       "        text-align: right;\n",
       "    }\n",
       "</style>\n",
       "<table border=\"1\" class=\"dataframe\">\n",
       "  <thead>\n",
       "    <tr style=\"text-align: right;\">\n",
       "      <th></th>\n",
       "      <th>record_id</th>\n",
       "      <th>month</th>\n",
       "      <th>day</th>\n",
       "      <th>year</th>\n",
       "      <th>plot_id</th>\n",
       "      <th>species_id</th>\n",
       "      <th>sex</th>\n",
       "      <th>hindfoot_length</th>\n",
       "      <th>weight</th>\n",
       "    </tr>\n",
       "  </thead>\n",
       "  <tbody>\n",
       "    <tr>\n",
       "      <th>0</th>\n",
       "      <td>1</td>\n",
       "      <td>7</td>\n",
       "      <td>16</td>\n",
       "      <td>1977</td>\n",
       "      <td>2</td>\n",
       "      <td>NL</td>\n",
       "      <td>M</td>\n",
       "      <td>32.0</td>\n",
       "      <td>NaN</td>\n",
       "    </tr>\n",
       "    <tr>\n",
       "      <th>1</th>\n",
       "      <td>2</td>\n",
       "      <td>7</td>\n",
       "      <td>16</td>\n",
       "      <td>1977</td>\n",
       "      <td>3</td>\n",
       "      <td>NL</td>\n",
       "      <td>M</td>\n",
       "      <td>33.0</td>\n",
       "      <td>NaN</td>\n",
       "    </tr>\n",
       "    <tr>\n",
       "      <th>2</th>\n",
       "      <td>3</td>\n",
       "      <td>7</td>\n",
       "      <td>16</td>\n",
       "      <td>1977</td>\n",
       "      <td>2</td>\n",
       "      <td>DM</td>\n",
       "      <td>F</td>\n",
       "      <td>37.0</td>\n",
       "      <td>NaN</td>\n",
       "    </tr>\n",
       "    <tr>\n",
       "      <th>3</th>\n",
       "      <td>4</td>\n",
       "      <td>7</td>\n",
       "      <td>16</td>\n",
       "      <td>1977</td>\n",
       "      <td>7</td>\n",
       "      <td>DM</td>\n",
       "      <td>M</td>\n",
       "      <td>36.0</td>\n",
       "      <td>NaN</td>\n",
       "    </tr>\n",
       "    <tr>\n",
       "      <th>4</th>\n",
       "      <td>5</td>\n",
       "      <td>7</td>\n",
       "      <td>16</td>\n",
       "      <td>1977</td>\n",
       "      <td>3</td>\n",
       "      <td>DM</td>\n",
       "      <td>M</td>\n",
       "      <td>35.0</td>\n",
       "      <td>NaN</td>\n",
       "    </tr>\n",
       "    <tr>\n",
       "      <th>5</th>\n",
       "      <td>6</td>\n",
       "      <td>7</td>\n",
       "      <td>16</td>\n",
       "      <td>1977</td>\n",
       "      <td>1</td>\n",
       "      <td>PF</td>\n",
       "      <td>M</td>\n",
       "      <td>14.0</td>\n",
       "      <td>NaN</td>\n",
       "    </tr>\n",
       "    <tr>\n",
       "      <th>6</th>\n",
       "      <td>7</td>\n",
       "      <td>7</td>\n",
       "      <td>16</td>\n",
       "      <td>1977</td>\n",
       "      <td>2</td>\n",
       "      <td>PE</td>\n",
       "      <td>F</td>\n",
       "      <td>NaN</td>\n",
       "      <td>NaN</td>\n",
       "    </tr>\n",
       "    <tr>\n",
       "      <th>7</th>\n",
       "      <td>8</td>\n",
       "      <td>7</td>\n",
       "      <td>16</td>\n",
       "      <td>1977</td>\n",
       "      <td>1</td>\n",
       "      <td>DM</td>\n",
       "      <td>M</td>\n",
       "      <td>37.0</td>\n",
       "      <td>NaN</td>\n",
       "    </tr>\n",
       "    <tr>\n",
       "      <th>8</th>\n",
       "      <td>9</td>\n",
       "      <td>7</td>\n",
       "      <td>16</td>\n",
       "      <td>1977</td>\n",
       "      <td>1</td>\n",
       "      <td>DM</td>\n",
       "      <td>F</td>\n",
       "      <td>34.0</td>\n",
       "      <td>NaN</td>\n",
       "    </tr>\n",
       "    <tr>\n",
       "      <th>9</th>\n",
       "      <td>10</td>\n",
       "      <td>7</td>\n",
       "      <td>16</td>\n",
       "      <td>1977</td>\n",
       "      <td>6</td>\n",
       "      <td>PF</td>\n",
       "      <td>F</td>\n",
       "      <td>20.0</td>\n",
       "      <td>NaN</td>\n",
       "    </tr>\n",
       "  </tbody>\n",
       "</table>\n",
       "</div>"
      ],
      "text/plain": [
       "   record_id  month  day  year  plot_id species_id sex  hindfoot_length  \\\n",
       "0          1      7   16  1977        2         NL   M             32.0   \n",
       "1          2      7   16  1977        3         NL   M             33.0   \n",
       "2          3      7   16  1977        2         DM   F             37.0   \n",
       "3          4      7   16  1977        7         DM   M             36.0   \n",
       "4          5      7   16  1977        3         DM   M             35.0   \n",
       "5          6      7   16  1977        1         PF   M             14.0   \n",
       "6          7      7   16  1977        2         PE   F              NaN   \n",
       "7          8      7   16  1977        1         DM   M             37.0   \n",
       "8          9      7   16  1977        1         DM   F             34.0   \n",
       "9         10      7   16  1977        6         PF   F             20.0   \n",
       "\n",
       "   weight  \n",
       "0     NaN  \n",
       "1     NaN  \n",
       "2     NaN  \n",
       "3     NaN  \n",
       "4     NaN  \n",
       "5     NaN  \n",
       "6     NaN  \n",
       "7     NaN  \n",
       "8     NaN  \n",
       "9     NaN  "
      ]
     },
     "execution_count": 6,
     "metadata": {},
     "output_type": "execute_result"
    }
   ],
   "source": [
    "#specify how many rows to read, write inside the parenthesis. default is 5 first rows\n",
    "d.head(10) "
   ]
  },
  {
   "cell_type": "code",
   "execution_count": 7,
   "metadata": {},
   "outputs": [
    {
     "data": {
      "text/html": [
       "<div>\n",
       "<style scoped>\n",
       "    .dataframe tbody tr th:only-of-type {\n",
       "        vertical-align: middle;\n",
       "    }\n",
       "\n",
       "    .dataframe tbody tr th {\n",
       "        vertical-align: top;\n",
       "    }\n",
       "\n",
       "    .dataframe thead th {\n",
       "        text-align: right;\n",
       "    }\n",
       "</style>\n",
       "<table border=\"1\" class=\"dataframe\">\n",
       "  <thead>\n",
       "    <tr style=\"text-align: right;\">\n",
       "      <th></th>\n",
       "      <th>record_id</th>\n",
       "      <th>month</th>\n",
       "      <th>day</th>\n",
       "      <th>year</th>\n",
       "      <th>plot_id</th>\n",
       "      <th>species_id</th>\n",
       "      <th>sex</th>\n",
       "      <th>hindfoot_length</th>\n",
       "      <th>weight</th>\n",
       "    </tr>\n",
       "  </thead>\n",
       "  <tbody>\n",
       "    <tr>\n",
       "      <th>35544</th>\n",
       "      <td>35545</td>\n",
       "      <td>12</td>\n",
       "      <td>31</td>\n",
       "      <td>2002</td>\n",
       "      <td>15</td>\n",
       "      <td>AH</td>\n",
       "      <td>NaN</td>\n",
       "      <td>NaN</td>\n",
       "      <td>NaN</td>\n",
       "    </tr>\n",
       "    <tr>\n",
       "      <th>35545</th>\n",
       "      <td>35546</td>\n",
       "      <td>12</td>\n",
       "      <td>31</td>\n",
       "      <td>2002</td>\n",
       "      <td>15</td>\n",
       "      <td>AH</td>\n",
       "      <td>NaN</td>\n",
       "      <td>NaN</td>\n",
       "      <td>NaN</td>\n",
       "    </tr>\n",
       "    <tr>\n",
       "      <th>35546</th>\n",
       "      <td>35547</td>\n",
       "      <td>12</td>\n",
       "      <td>31</td>\n",
       "      <td>2002</td>\n",
       "      <td>10</td>\n",
       "      <td>RM</td>\n",
       "      <td>F</td>\n",
       "      <td>15.0</td>\n",
       "      <td>14.0</td>\n",
       "    </tr>\n",
       "    <tr>\n",
       "      <th>35547</th>\n",
       "      <td>35548</td>\n",
       "      <td>12</td>\n",
       "      <td>31</td>\n",
       "      <td>2002</td>\n",
       "      <td>7</td>\n",
       "      <td>DO</td>\n",
       "      <td>M</td>\n",
       "      <td>36.0</td>\n",
       "      <td>51.0</td>\n",
       "    </tr>\n",
       "    <tr>\n",
       "      <th>35548</th>\n",
       "      <td>35549</td>\n",
       "      <td>12</td>\n",
       "      <td>31</td>\n",
       "      <td>2002</td>\n",
       "      <td>5</td>\n",
       "      <td>NaN</td>\n",
       "      <td>NaN</td>\n",
       "      <td>NaN</td>\n",
       "      <td>NaN</td>\n",
       "    </tr>\n",
       "  </tbody>\n",
       "</table>\n",
       "</div>"
      ],
      "text/plain": [
       "       record_id  month  day  year  plot_id species_id  sex  hindfoot_length  \\\n",
       "35544      35545     12   31  2002       15         AH  NaN              NaN   \n",
       "35545      35546     12   31  2002       15         AH  NaN              NaN   \n",
       "35546      35547     12   31  2002       10         RM    F             15.0   \n",
       "35547      35548     12   31  2002        7         DO    M             36.0   \n",
       "35548      35549     12   31  2002        5        NaN  NaN              NaN   \n",
       "\n",
       "       weight  \n",
       "35544     NaN  \n",
       "35545     NaN  \n",
       "35546    14.0  \n",
       "35547    51.0  \n",
       "35548     NaN  "
      ]
     },
     "execution_count": 7,
     "metadata": {},
     "output_type": "execute_result"
    }
   ],
   "source": [
    "d.tail() # shows the bottom 5 rows. default also 5."
   ]
  },
  {
   "cell_type": "code",
   "execution_count": 8,
   "metadata": {},
   "outputs": [
    {
     "data": {
      "text/plain": [
       "pandas.core.frame.DataFrame"
      ]
     },
     "execution_count": 8,
     "metadata": {},
     "output_type": "execute_result"
    }
   ],
   "source": [
    "# What is the type of d\n",
    "type(d)"
   ]
  },
  {
   "cell_type": "markdown",
   "source": [
    "`d` is pandas dataframe. "
   ],
   "metadata": {
    "collapsed": false,
    "pycharm": {
     "name": "#%% md\n"
    }
   }
  },
  {
   "cell_type": "code",
   "execution_count": 9,
   "metadata": {},
   "outputs": [
    {
     "name": "stdout",
     "output_type": "stream",
     "text": [
      "<class 'pandas.core.frame.DataFrame'>\n",
      "RangeIndex: 35549 entries, 0 to 35548\n",
      "Data columns (total 9 columns):\n",
      "record_id          35549 non-null int64\n",
      "month              35549 non-null int64\n",
      "day                35549 non-null int64\n",
      "year               35549 non-null int64\n",
      "plot_id            35549 non-null int64\n",
      "species_id         34786 non-null object\n",
      "sex                33038 non-null object\n",
      "hindfoot_length    31438 non-null float64\n",
      "weight             32283 non-null float64\n",
      "dtypes: float64(2), int64(5), object(2)\n",
      "memory usage: 2.4+ MB\n"
     ]
    }
   ],
   "source": [
    "# Get information of d\n",
    "d.info()"
   ]
  },
  {
   "cell_type": "markdown",
   "source": [
    "* `'pandas.core.frame.DataFrame'` = This is pandas dataframe\n",
    "* `RangeIndex: 35549 entries, 0 to 35548` = The range of index is from 0 to 35548. There are 35549 entries. This means that there are 35549 rows in this dataset.\n",
    "* It tells data type (dtype) of each column, and how many non null values exist for each column\n",
    "* Column `record_id` has 35549 non-null values, and the data type is integer 64.\n",
    "* Column `species_id` has 34786 non-null values, and the data type is object (character). As you can see, the number of non-null values does not equal to total number of rows in this dataset. This means that there _are_ null values for `species_id`.\n",
    "* `float64` means that it is a number, with decimals. `int64` has no decimals."
   ],
   "metadata": {
    "collapsed": false,
    "pycharm": {
     "name": "#%% md\n"
    }
   }
  },
  {
   "cell_type": "code",
   "execution_count": 12,
   "metadata": {},
   "outputs": [],
   "source": [
    "# string/object example\n",
    "example_object = \"this is a string\" # Use quotation marks, you can also use '' instead of \"\""
   ]
  },
  {
   "cell_type": "code",
   "execution_count": 13,
   "metadata": {},
   "outputs": [
    {
     "data": {
      "text/plain": [
       "str"
      ]
     },
     "execution_count": 13,
     "metadata": {},
     "output_type": "execute_result"
    }
   ],
   "source": [
    "# check type of example object\n",
    "type(example_object)"
   ]
  },
  {
   "cell_type": "code",
   "execution_count": 16,
   "metadata": {},
   "outputs": [
    {
     "data": {
      "text/plain": [
       "<bound method DataFrame.info of        record_id  month  day  year  plot_id species_id  sex  hindfoot_length  \\\n",
       "0              1      7   16  1977        2         NL    M             32.0   \n",
       "1              2      7   16  1977        3         NL    M             33.0   \n",
       "2              3      7   16  1977        2         DM    F             37.0   \n",
       "3              4      7   16  1977        7         DM    M             36.0   \n",
       "4              5      7   16  1977        3         DM    M             35.0   \n",
       "...          ...    ...  ...   ...      ...        ...  ...              ...   \n",
       "35544      35545     12   31  2002       15         AH  NaN              NaN   \n",
       "35545      35546     12   31  2002       15         AH  NaN              NaN   \n",
       "35546      35547     12   31  2002       10         RM    F             15.0   \n",
       "35547      35548     12   31  2002        7         DO    M             36.0   \n",
       "35548      35549     12   31  2002        5        NaN  NaN              NaN   \n",
       "\n",
       "       weight  \n",
       "0         NaN  \n",
       "1         NaN  \n",
       "2         NaN  \n",
       "3         NaN  \n",
       "4         NaN  \n",
       "...       ...  \n",
       "35544     NaN  \n",
       "35545     NaN  \n",
       "35546    14.0  \n",
       "35547    51.0  \n",
       "35548     NaN  \n",
       "\n",
       "[35549 rows x 9 columns]>"
      ]
     },
     "execution_count": 16,
     "metadata": {},
     "output_type": "execute_result"
    }
   ],
   "source": [
    "# Without the parenthesis after info, it will give the head and tail of the dataframe d\n",
    "d.info"
   ]
  },
  {
   "cell_type": "code",
   "execution_count": 17,
   "metadata": {},
   "outputs": [
    {
     "data": {
      "text/plain": [
       "Index(['record_id', 'month', 'day', 'year', 'plot_id', 'species_id', 'sex',\n",
       "       'hindfoot_length', 'weight'],\n",
       "      dtype='object')"
      ]
     },
     "execution_count": 17,
     "metadata": {},
     "output_type": "execute_result"
    }
   ],
   "source": [
    "# Show column names\n",
    "d.columns # column names"
   ]
  },
  {
   "cell_type": "markdown",
   "source": [
    "If the dataframe has a lot of columns, this will not print all the columns.\n",
    "If you want to print each, you can use a `for` loop, which means to apply what you specify for each element."
   ],
   "metadata": {
    "collapsed": false,
    "pycharm": {
     "name": "#%% md\n"
    }
   }
  },
  {
   "cell_type": "code",
   "execution_count": 18,
   "metadata": {},
   "outputs": [
    {
     "name": "stdout",
     "output_type": "stream",
     "text": [
      "record_id\n",
      "month\n",
      "day\n",
      "year\n",
      "plot_id\n",
      "species_id\n",
      "sex\n",
      "hindfoot_length\n",
      "weight\n"
     ]
    }
   ],
   "source": [
    "# for each element (I will call that element \"col\") in d.columns\n",
    "# print it \"print(col)\"\n",
    "for col in d.columns:\n",
    "    print(col)"
   ]
  },
  {
   "cell_type": "code",
   "execution_count": 19,
   "metadata": {},
   "outputs": [
    {
     "name": "stdout",
     "output_type": "stream",
     "text": [
      "The columns are:  record_id\n",
      "The columns are:  month\n",
      "The columns are:  day\n",
      "The columns are:  year\n",
      "The columns are:  plot_id\n",
      "The columns are:  species_id\n",
      "The columns are:  sex\n",
      "The columns are:  hindfoot_length\n",
      "The columns are:  weight\n"
     ]
    }
   ],
   "source": [
    "# I can change the print statement and add more things like this!\n",
    "for col in d.columns:\n",
    "    print(\"The columns are: \", col)"
   ]
  },
  {
   "cell_type": "code",
   "execution_count": 20,
   "metadata": {},
   "outputs": [
    {
     "data": {
      "text/plain": [
       "array(['NL', 'DM', 'PF', 'PE', 'DS', 'PP', 'SH', 'OT', 'DO', 'OX', 'SS',\n",
       "       'OL', 'RM', nan, 'SA', 'PM', 'AH', 'DX', 'AB', 'CB', 'CM', 'CQ',\n",
       "       'RF', 'PC', 'PG', 'PH', 'PU', 'CV', 'UR', 'UP', 'ZL', 'UL', 'CS',\n",
       "       'SC', 'BA', 'SF', 'RO', 'AS', 'SO', 'PI', 'ST', 'CU', 'SU', 'RX',\n",
       "       'PB', 'PL', 'PX', 'CT', 'US'], dtype=object)"
      ]
     },
     "execution_count": 20,
     "metadata": {},
     "output_type": "execute_result"
    }
   ],
   "source": [
    "# To get unique values.\n",
    "# From pandas, use unique function. Inside the parenthesis, specify the column.\n",
    "pd.unique(d['species_id'])"
   ]
  },
  {
   "cell_type": "code",
   "execution_count": 22,
   "metadata": {},
   "outputs": [
    {
     "data": {
      "text/plain": [
       "array(['M', 'F', nan], dtype=object)"
      ]
     },
     "execution_count": 22,
     "metadata": {},
     "output_type": "execute_result"
    }
   ],
   "source": [
    "# You can use dataframe.column_name instead of dataframe['column_name']\n",
    "pd.unique(d.sex)"
   ]
  },
  {
   "cell_type": "markdown",
   "metadata": {
    "pycharm": {
     "name": "#%% md\n"
    }
   },
   "source": [
    "* Some other helpful keyboard shortcuts.\n",
    "\n",
    "1) To get all functions in a package, type the package and press \"tab\"\n",
    "\n",
    "2) To get documentation of a function, use `help`. (ex: `help(pd.unique)`). Scroll down to the bottom and there are examples.\n",
    "\n",
    "3) To run your code chunk, use `shift + enter`\n",
    "\n",
    "4) If you want to run all your code chunks, you can go to the top tabs, cell > run all"
   ]
  },
  {
   "cell_type": "code",
   "execution_count": 1,
   "metadata": {
    "pycharm": {
     "name": "#%%\n",
     "is_executing": false
    }
   },
   "outputs": [
    {
     "name": "stdout",
     "text": [
      "Help on function unique in module pandas.core.algorithms:\n",
      "\n",
      "unique(values)\n",
      "    Hash table-based unique. Uniques are returned in order\n",
      "    of appearance. This does NOT sort.\n",
      "    \n",
      "    Significantly faster than numpy.unique. Includes NA values.\n",
      "    \n",
      "    Parameters\n",
      "    ----------\n",
      "    values : 1d array-like\n",
      "    \n",
      "    Returns\n",
      "    -------\n",
      "    numpy.ndarray or ExtensionArray\n",
      "    \n",
      "        The return can be:\n",
      "    \n",
      "        * Index : when the input is an Index\n",
      "        * Categorical : when the input is a Categorical dtype\n",
      "        * ndarray : when the input is a Series/ndarray\n",
      "    \n",
      "        Return numpy.ndarray or ExtensionArray.\n",
      "    \n",
      "    See Also\n",
      "    --------\n",
      "    Index.unique\n",
      "    Series.unique\n",
      "    \n",
      "    Examples\n",
      "    --------\n",
      "    >>> pd.unique(pd.Series([2, 1, 3, 3]))\n",
      "    array([2, 1, 3])\n",
      "    \n",
      "    >>> pd.unique(pd.Series([2] + [1] * 5))\n",
      "    array([2, 1])\n",
      "    \n",
      "    >>> pd.unique(pd.Series([pd.Timestamp('20160101'),\n",
      "    ...                     pd.Timestamp('20160101')]))\n",
      "    array(['2016-01-01T00:00:00.000000000'], dtype='datetime64[ns]')\n",
      "    \n",
      "    >>> pd.unique(pd.Series([pd.Timestamp('20160101', tz='US/Eastern'),\n",
      "    ...                      pd.Timestamp('20160101', tz='US/Eastern')]))\n",
      "    array([Timestamp('2016-01-01 00:00:00-0500', tz='US/Eastern')],\n",
      "          dtype=object)\n",
      "    \n",
      "    >>> pd.unique(pd.Index([pd.Timestamp('20160101', tz='US/Eastern'),\n",
      "    ...                     pd.Timestamp('20160101', tz='US/Eastern')]))\n",
      "    DatetimeIndex(['2016-01-01 00:00:00-05:00'],\n",
      "    ...           dtype='datetime64[ns, US/Eastern]', freq=None)\n",
      "    \n",
      "    >>> pd.unique(list('baabc'))\n",
      "    array(['b', 'a', 'c'], dtype=object)\n",
      "    \n",
      "    An unordered Categorical will return categories in the\n",
      "    order of appearance.\n",
      "    \n",
      "    >>> pd.unique(pd.Series(pd.Categorical(list('baabc'))))\n",
      "    [b, a, c]\n",
      "    Categories (3, object): [b, a, c]\n",
      "    \n",
      "    >>> pd.unique(pd.Series(pd.Categorical(list('baabc'),\n",
      "    ...                                    categories=list('abc'))))\n",
      "    [b, a, c]\n",
      "    Categories (3, object): [b, a, c]\n",
      "    \n",
      "    An ordered Categorical preserves the category ordering.\n",
      "    \n",
      "    >>> pd.unique(pd.Series(pd.Categorical(list('baabc'),\n",
      "    ...                                    categories=list('abc'),\n",
      "    ...                                    ordered=True)))\n",
      "    [b, a, c]\n",
      "    Categories (3, object): [a < b < c]\n",
      "    \n",
      "    An array of tuples\n",
      "    \n",
      "    >>> pd.unique([('a', 'b'), ('b', 'a'), ('a', 'c'), ('b', 'a')])\n",
      "    array([('a', 'b'), ('b', 'a'), ('a', 'c')], dtype=object)\n",
      "\n"
     ],
     "output_type": "stream"
    }
   ],
   "source": [
    "# example of help(pd.unique)\n",
    "help(pd.unique)"
   ]
  }
 ],
 "metadata": {
  "kernelspec": {
   "display_name": "Python 3",
   "language": "python",
   "name": "python3"
  },
  "language_info": {
   "codemirror_mode": {
    "name": "ipython",
    "version": 3
   },
   "file_extension": ".py",
   "mimetype": "text/x-python",
   "name": "python",
   "nbconvert_exporter": "python",
   "pygments_lexer": "ipython3",
   "version": "3.7.3"
  },
  "pycharm": {
   "stem_cell": {
    "cell_type": "raw",
    "source": [],
    "metadata": {
     "collapsed": false
    }
   }
  }
 },
 "nbformat": 4,
 "nbformat_minor": 4
}